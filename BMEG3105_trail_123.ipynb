{
 "cells": [
  {
   "cell_type": "code",
   "execution_count": null,
   "metadata": {
    "vscode": {
     "languageId": "plaintext"
    }
   },
   "outputs": [],
   "source": [
    "import os\n",
    "os.environ['TF_ENABLE_ONEDNN_OPTS'] = '0'\n",
    "import tensorflow as tf\n",
    "from tensorflow.keras import layers, Model\n",
    "from tensorflow.keras.applications import VGG16\n",
    "from tensorflow.keras.models import Sequential\n",
    "from tensorflow.keras.callbacks import Callback, EarlyStopping, ModelCheckpoint\n",
    "from tensorflow.keras.preprocessing.image import ImageDataGenerator\n",
    "from tensorflow.keras.metrics import Precision, Recall\n",
    "from tensorflow.keras.utils import plot_model\n",
    "from sklearn.metrics import confusion_matrix\n",
    "import numpy as np\n",
    "import matplotlib.pyplot as plt\n",
    "import sys\n"
   ]
  },
  {
   "cell_type": "code",
   "execution_count": null,
   "metadata": {
    "vscode": {
     "languageId": "plaintext"
    }
   },
   "outputs": [],
   "source": [
    "IMAGE_WIDTH = 512\n",
    "IMAGE_HEIGHT = 512\n",
    "BATCH_SIZE = 32\n",
    "NUM_EPOCHS = 100\n",
    "NUM_CLASSES = 4\n"
   ]
  },
  {
   "cell_type": "code",
   "execution_count": null,
   "metadata": {
    "vscode": {
     "languageId": "plaintext"
    }
   },
   "outputs": [],
   "source": [
    "def loadDataset(datagen, path):\n",
    "    dataset = datagen.flow_from_directory(\n",
    "        directory=path,\n",
    "        target_size=(IMAGE_WIDTH, IMAGE_HEIGHT),\n",
    "        color_mode=\"rgb\",  # Change to RGB for 3 channels\n",
    "        batch_size=BATCH_SIZE,\n",
    "        class_mode=\"categorical\",\n",
    "        classes=[\"glioma_tumor\", \"meningioma_tumor\",\"no_tumor\",\"pituitary_tumor\"],\n",
    "    )\n",
    "    return dataset"
   ]
  },
  {
   "cell_type": "code",
   "execution_count": null,
   "metadata": {
    "vscode": {
     "languageId": "plaintext"
    }
   },
   "outputs": [],
   "source": [
    "def ConstructModel():\n",
    "    base_model = VGG16(weights='imagenet', include_top=False, input_shape=(IMAGE_WIDTH, IMAGE_HEIGHT, 3))\n",
    "    base_model.trainable = False  # Freeze the VGG16 base\n",
    "    \n",
    "    model = Sequential([\n",
    "        base_model,\n",
    "        layers.Flatten(),\n",
    "        layers.Dense(256, activation=\"relu\"),\n",
    "        layers.BatchNormalization(),\n",
    "        layers.Dense(128, activation=\"relu\"),\n",
    "        layers.BatchNormalization(),  \n",
    "        layers.Dropout(0.2),\n",
    "        layers.Dense(64, activation=\"relu\"),\n",
    "        layers.BatchNormalization(),  \n",
    "        layers.Dropout(0.2),\n",
    "        layers.Dense(32, activation=\"relu\"),\n",
    "        layers.BatchNormalization(),  \n",
    "        layers.Dense(16, activation=\"relu\"),\n",
    "        layers.BatchNormalization(),  \n",
    "        layers.Dense(8, activation=\"relu\"),\n",
    "        layers.BatchNormalization(),  \n",
    "        layers.Dense(NUM_CLASSES, activation=\"sigmoid\"),\n",
    "    ])\n",
    "    model.compile(\n",
    "        optimizer=tf.keras.optimizers.Adam(learning_rate=0.001),\n",
    "        loss=tf.keras.losses.CategoricalCrossentropy(),\n",
    "        metrics=[\"accuracy\", Precision(), Recall()],\n",
    "    )\n",
    "\n",
    "    model.summary()\n",
    "    return model  \n",
    "\n",
    "def trainModel(model, training_data_generator, testing_data_generator):\n",
    "    train_dataset = loadDataset(training_data_generator, r\"C:\\Users\\BME\\Documents\\BMEG3105\\Brain-Tumor-Classification-DataSet\\Training\")\n",
    "    validation_dataset = loadDataset(training_data_generator, r\"C:\\Users\\BME\\Documents\\BMEG3105\\Brain-Tumor-Classification-DataSet\\Validation\")\n",
    "    history = model.fit(\n",
    "        train_dataset,\n",
    "        epochs=NUM_EPOCHS,\n",
    "        validation_data=validation_dataset,\n",
    "        callbacks=[EarlyStopping(monitor='val_loss', patience=20, verbose=1, restore_best_weights=True), ModelCheckpoint('model_best.keras', monitor='val_loss', save_best_only=True, verbose=1)]\n",
    "    )\n",
    "    plot_metrics(history)\n",
    "\n",
    "def testModel(model, testing_data_generator):\n",
    "    test_dataset = loadDataset(testing_data_generator, r\"C:\\Users\\BME\\Documents\\BMEG3105\\Brain-Tumor-Classification-DataSet\\Testing\")\n",
    "    predictions = model.predict(test_dataset)\n",
    "    predicted_classes = np.argmax(predictions, axis=1)\n",
    "    true_classes = test_dataset.classes\n",
    "    loss, accuracy, precision, recall = model.evaluate(test_dataset)\n",
    "    confusion = confusion_matrix(true_classes, predicted_classes)\n",
    "    print(f\"Testing loss: {loss}\")\n",
    "    print(f\"Testing accuracy: {accuracy}\")\n",
    "    print(f\"Testing precision: {precision}\")\n",
    "    print(f\"Testing recall: {recall}\")\n",
    "    print(f\"Testing confusion matrix:\")\n",
    "    print(confusion)"
   ]
  },
  {
   "cell_type": "code",
   "execution_count": null,
   "metadata": {
    "vscode": {
     "languageId": "plaintext"
    }
   },
   "outputs": [],
   "source": [
    "def plot_metrics(history):\n",
    "    metrics = ['loss', 'accuracy', 'precision', 'recall']\n",
    "    for metric in metrics:\n",
    "        plt.figure(figsize=(8, 6))\n",
    "        plt.plot(history.history[f'{metric}'], label=f'Train {metric.capitalize()}')\n",
    "        plt.plot(history.history[f'val_{metric}'], label=f'Validation {metric.capitalize()}')\n",
    "        plt.xlabel('Epochs')\n",
    "        plt.ylabel(metric.capitalize())\n",
    "        plt.legend()\n",
    "        plt.title(f'Training and Validation {metric.capitalize()}')\n",
    "        plt.tight_layout()\n",
    "        plt.savefig(f'{metric}_metric.png')\n",
    "        plt.show()\n",
    "\n",
    "def save_model_plot(model, filename=\"model.png\"):\n",
    "    # plot_model(model, to_file=filename, show_shapes=True, show_layer_names=True)\n",
    "    print(f\"Model architecture diagram saved as {filename}\")"
   ]
  },
  {
   "cell_type": "code",
   "execution_count": null,
   "metadata": {
    "vscode": {
     "languageId": "plaintext"
    }
   },
   "outputs": [],
   "source": [
    "def main():\n",
    "    model = ConstructModel()\n",
    "    training_data_generator = ImageDataGenerator(\n",
    "        rescale=1.0 / 255,\n",
    "        rotation_range=40,\n",
    "        width_shift_range=0.3,\n",
    "        height_shift_range=0.3,\n",
    "        shear_range=0.3,\n",
    "        zoom_range=0.3,\n",
    "        horizontal_flip=True,\n",
    "        vertical_flip=True,\n",
    "        fill_mode='nearest',\n",
    "        brightness_range=[0.8, 1.2],\n",
    "        channel_shift_range=0.2\n",
    "    )\n",
    "    testing_data_generator = ImageDataGenerator(\n",
    "        rescale=1.0 / 255\n",
    "    )\n",
    "    trainModel(model, training_data_generator, testing_data_generator)\n",
    "    print(\"finish training\")\n",
    "    model.save(\"tumour_exist classification.keras\")\n",
    "    print(\"finish save the model\")\n",
    "    print(\"test model now \")\n",
    "    testModel(model, testing_data_generator)"
   ]
  },
  {
   "cell_type": "code",
   "execution_count": null,
   "metadata": {
    "vscode": {
     "languageId": "plaintext"
    }
   },
   "outputs": [],
   "source": [
    "if __name__ == \"__main__\":\n",
    "    main()"
   ]
  },
  {
   "cell_type": "code",
   "execution_count": null,
   "metadata": {
    "vscode": {
     "languageId": "plaintext"
    }
   },
   "outputs": [],
   "source": []
  }
 ],
 "metadata": {
  "language_info": {
   "name": "python"
  }
 },
 "nbformat": 4,
 "nbformat_minor": 2
}
