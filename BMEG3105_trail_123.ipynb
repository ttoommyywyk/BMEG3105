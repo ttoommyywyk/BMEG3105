{
 "cells": [
  {
   "cell_type": "code",
   "execution_count": null,
   "id": "ffd0b910-ccea-4044-a22a-a5cf6b038d79",
   "metadata": {},
   "outputs": [],
   "source": [
    "import os\n",
    "os.environ['TF_ENABLE_ONEDNN_OPTS'] = '0'\n",
    "import tensorflow as tf\n",
    "from tensorflow.keras import layers, Model\n",
    "from tensorflow.keras.applications import VGG16\n",
    "from tensorflow.keras.models import Sequential\n",
    "from tensorflow.keras.callbacks import Callback, EarlyStopping, ModelCheckpoint\n",
    "from tensorflow.keras.preprocessing.image import ImageDataGenerator\n",
    "from tensorflow.keras.metrics import Precision, Recall\n",
    "from tensorflow.keras.utils import plot_model\n",
    "from sklearn.metrics import confusion_matrix\n",
    "import numpy as np\n",
    "import matplotlib.pyplot as plt\n",
    "import sys\n"
   ]
  },
  {
   "cell_type": "code",
   "execution_count": null,
   "id": "05b89c4a-5915-48e9-ad66-cc308368e7ff",
   "metadata": {},
   "outputs": [],
   "source": [
    "# Constants\n",
    "IMAGE_WIDTH = 512\n",
    "IMAGE_HEIGHT = 512\n",
    "BATCH_SIZE = 32\n",
    "NUM_EPOCHS = 1000\n",
    "NUM_CLASSES = 2"
   ]
  },
  {
   "cell_type": "code",
   "execution_count": null,
   "id": "7d5966d3-24f5-426c-b0fa-b5393cee4630",
   "metadata": {},
   "outputs": [],
   "source": [
    "def loadDataset(datagen, path):\n",
    "    dataset = datagen.flow_from_directory(\n",
    "        directory=path,\n",
    "        target_size=(IMAGE_WIDTH, IMAGE_HEIGHT),\n",
    "        color_mode=\"rgb\",  # Change to RGB for 3 channels\n",
    "        batch_size=BATCH_SIZE,\n",
    "        class_mode=\"categorical\",\n",
    "        classes=[\"normal\", \"opacity\"],\n",
    "    )\n",
    "    return dataset"
   ]
  },
  {
   "cell_type": "code",
   "execution_count": null,
   "id": "c9b679b3-ea86-40d3-8829-a3f0ebd1d7d8",
   "metadata": {},
   "outputs": [],
   "source": [
    "def ConstructModel():\n",
    "    base_model = VGG16(weights='imagenet', include_top=False, input_shape=(IMAGE_WIDTH, IMAGE_HEIGHT, 3))\n",
    "    base_model.trainable = False  # Freeze the VGG16 base\n",
    "    \n",
    "    model = Sequential([\n",
    "        base_model,\n",
    "        layers.Flatten(),\n",
    "        layers.Dense(256, activation=\"relu\"),\n",
    "        layers.BatchNormalization(),\n",
    "        layers.Dense(128, activation=\"relu\"),\n",
    "        layers.BatchNormalization(),  \n",
    "        layers.Dropout(0.2),\n",
    "        layers.Dense(64, activation=\"relu\"),\n",
    "        layers.BatchNormalization(),  \n",
    "        layers.Dropout(0.2),\n",
    "        layers.Dense(32, activation=\"relu\"),\n",
    "        layers.BatchNormalization(),  \n",
    "        layers.Dense(16, activation=\"relu\"),\n",
    "        layers.BatchNormalization(),  \n",
    "        layers.Dense(8, activation=\"relu\"),\n",
    "        layers.BatchNormalization(),  \n",
    "        layers.Dense(NUM_CLASSES, activation=\"sigmoid\"),\n",
    "    ])\n",
    "    model.compile(\n",
    "        optimizer=tf.keras.optimizers.Adam(learning_rate=0.001),\n",
    "        loss=tf.keras.losses.CategoricalCrossentropy(),\n",
    "        metrics=[\"accuracy\", Precision(), Recall()],\n",
    "    )\n",
    "\n",
    "    model.summary()\n",
    "    return model  "
   ]
  },
  {
   "cell_type": "code",
   "execution_count": null,
   "id": "a299af06-f4c8-40f8-9bbc-e7955d2c7b92",
   "metadata": {},
   "outputs": [],
   "source": [
    "def trainModel(model, training_data_generator, testing_data_generator):\n",
    "    train_dataset = loadDataset(training_data_generator, \"Brain-Tumourclassification-Dataset/Training")\n",
    "    validation_dataset = loadDataset(training_data_generator, \"Brain-Tumourclassification-Dataset/Validation")\n",
    "    history = model.fit(\n",
    "        train_dataset,\n",
    "        epochs=NUM_EPOCHS,\n",
    "        validation_data=validation_dataset,\n",
    "        callbacks=[EarlyStopping(monitor='val_loss', patience=20, verbose=1, restore_best_weights=True), ModelCheckpoint('model_best.keras', monitor='val_loss', save_best_only=True, verbose=1)]\n",
    "    )\n",
    "    plot_metrics(history)"
   ]
  },
  {
   "cell_type": "code",
   "execution_count": null,
   "id": "6206ad98-952d-4f69-8d25-b1ba21e3a630",
   "metadata": {},
   "outputs": [],
   "source": [
    "def testModel(model, testing_data_generator):\n",
    "    test_dataset = loadDataset(testing_data_generator, \"Brain-Tumourclassification-Dataset/Testing")\n",
    "    predictions = model.predict(test_dataset)\n",
    "    predicted_classes = np.argmax(predictions, axis=1)\n",
    "    true_classes = test_dataset.classes\n",
    "    loss, accuracy, precision, recall = model.evaluate(test_dataset)\n",
    "    confusion = confusion_matrix(true_classes, predicted_classes)\n",
    "    print(f\"Testing loss: {loss}\")\n",
    "    print(f\"Testing accuracy: {accuracy}\")\n",
    "    print(f\"Testing precision: {precision}\")\n",
    "    print(f\"Testing recall: {recall}\")\n",
    "    print(f\"Testing confusion matrix:\")\n",
    "    print(confusion)"
   ]
  },
  {
   "cell_type": "code",
   "execution_count": null,
   "id": "b4479c4e-adb3-49c6-b8cc-efa4a044a3d0",
   "metadata": {},
   "outputs": [],
   "source": [
    "def plot_metrics(history):\n",
    "    metrics = ['loss', 'accuracy', 'precision', 'recall']\n",
    "    for metric in metrics:\n",
    "        plt.figure(figsize=(8, 6))\n",
    "        plt.plot(history.history[f'train_{metric}'], label=f'Train {metric.capitalize()}')\n",
    "        plt.plot(history.history[f'val_{metric}'], label=f'Validation {metric.capitalize()}')\n",
    "        plt.xlabel('Epochs')\n",
    "        plt.ylabel(metric.capitalize())\n",
    "        plt.legend()\n",
    "        plt.title(f'Training and Validation {metric.capitalize()}')\n",
    "        plt.tight_layout()\n",
    "        plt.savefig(f'{metric}_metric.png')\n",
    "        plt.show()"
   ]
  },
  {
   "cell_type": "code",
   "execution_count": null,
   "id": "10dfadc5-df97-4f1b-afa6-a65bcf50ca2d",
   "metadata": {},
   "outputs": [],
   "source": [
    "def save_model_plot(model, filename=\"model.png\"):\n",
    "    plot_model(model, to_file=filename, show_shapes=True, show_layer_names=True)\n",
    "    print(f\"Model architecture diagram saved as {filename}\")"
   ]
  },
  {
   "cell_type": "code",
   "execution_count": null,
   "id": "7cd6017c-e360-43dc-ba2d-221c259886bc",
   "metadata": {},
   "outputs": [],
   "source": [
    "def main():\n",
    "    model = ConstructModel()\n",
    "    training_data_generator = ImageDataGenerator(\n",
    "        rescale=1.0 / 255,\n",
    "        rotation_range=40,\n",
    "        width_shift_range=0.3,\n",
    "        height_shift_range=0.3,\n",
    "        shear_range=0.3,\n",
    "        zoom_range=0.3,\n",
    "        horizontal_flip=True,\n",
    "        vertical_flip=True,\n",
    "        fill_mode='nearest',\n",
    "        brightness_range=[0.8, 1.2],\n",
    "        channel_shift_range=0.2\n",
    "    )\n",
    "    testing_data_generator = ImageDataGenerator(\n",
    "        rescale=1.0 / 255\n",
    "    )\n",
    "    trainModel(model, training_data_generator, testing_data_generator)\n",
    "    testModel(model, testing_data_generator)\n",
    "    save_model_plot(model)"
   ]
  },
  {
   "cell_type": "code",
   "execution_count": null,
   "id": "7c0416a1-4b2d-40b8-b5ff-2a0d84e3de17",
   "metadata": {},
   "outputs": [],
   "source": [
    "if __name__ == \"__main__\":\n",
    "    main()\n"
   ]
  }
 ],
 "metadata": {
  "kernelspec": {
   "display_name": "Python 3 (ipykernel)",
   "language": "python",
   "name": "python3"
  },
  "language_info": {
   "codemirror_mode": {
    "name": "ipython",
    "version": 3
   },
   "file_extension": ".py",
   "mimetype": "text/x-python",
   "name": "python",
   "nbconvert_exporter": "python",
   "pygments_lexer": "ipython3",
   "version": "3.12.2"
  }
 },
 "nbformat": 4,
 "nbformat_minor": 5
}
